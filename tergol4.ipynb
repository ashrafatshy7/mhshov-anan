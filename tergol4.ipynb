{
  "nbformat": 4,
  "nbformat_minor": 0,
  "metadata": {
    "colab": {
      "provenance": [],
      "authorship_tag": "ABX9TyP80o3BGa+8i5F0AYLdmS5g"
    },
    "kernelspec": {
      "name": "python3",
      "display_name": "Python 3"
    },
    "language_info": {
      "name": "python"
    },
    "widgets": {
      "application/vnd.jupyter.widget-state+json": {
        "013a592d9ce24e24af6447130287e79d": {
          "model_module": "@jupyter-widgets/controls",
          "model_name": "TabModel",
          "model_module_version": "1.5.0",
          "state": {
            "_dom_classes": [],
            "_model_module": "@jupyter-widgets/controls",
            "_model_module_version": "1.5.0",
            "_model_name": "TabModel",
            "_titles": {
              "0": "טאב 1: סטטיסטיקה",
              "1": "טאב 2: טבלה",
              "2": "טאב 3: גרף לפי שנה"
            },
            "_view_count": null,
            "_view_module": "@jupyter-widgets/controls",
            "_view_module_version": "1.5.0",
            "_view_name": "TabView",
            "box_style": "",
            "children": [
              "IPY_MODEL_0d6025c1ac744b98b1d4ebcebb2cc68d",
              "IPY_MODEL_0f71d19b9bda43bb8790ffd7d7b80f4f",
              "IPY_MODEL_63678563347b489d8185f81a712e7ebb"
            ],
            "layout": "IPY_MODEL_21dc8c27e57f485ea55e3d1a38955a15",
            "selected_index": 2
          }
        },
        "0d6025c1ac744b98b1d4ebcebb2cc68d": {
          "model_module": "@jupyter-widgets/output",
          "model_name": "OutputModel",
          "model_module_version": "1.0.0",
          "state": {
            "_dom_classes": [],
            "_model_module": "@jupyter-widgets/output",
            "_model_module_version": "1.0.0",
            "_model_name": "OutputModel",
            "_view_count": null,
            "_view_module": "@jupyter-widgets/output",
            "_view_module_version": "1.0.0",
            "_view_name": "OutputView",
            "layout": "IPY_MODEL_8c2ab8592b3347f0845725a8800165df",
            "msg_id": "",
            "outputs": [
              {
                "output_type": "stream",
                "name": "stdout",
                "text": [
                  "טאב 1 – סטטיסטיקה של כלל הנתונים:\n"
                ]
              },
              {
                "output_type": "display_data",
                "data": {
                  "text/plain": "                _id  mispar_rechev    tozeret_cd      degem_cd  \\\ncount  32000.000000   3.200000e+04  32000.000000  32000.000000   \nmean   16000.500000   1.314576e+07    596.867031    475.701875   \nstd     9237.748643   1.856323e+07    259.427908    597.210795   \nmin        1.000000   1.000263e+06     19.000000      1.000000   \n25%     8000.750000   4.183946e+06    413.000000     75.000000   \n50%    16000.500000   6.806477e+06    588.000000    292.000000   \n75%    24000.250000   9.111006e+06    731.000000    651.000000   \nmax    32000.000000   9.255030e+07   1629.000000   8710.000000   \n\n       ramat_eivzur_betihuty  kvutzat_zihum  shnat_yitzur      tzeva_cd  \\\ncount            6090.000000   22692.000000  32000.000000  32000.000000   \nmean                3.929228      13.462322   2011.471937     43.422625   \nstd                 2.210714       3.562736      6.755698     27.556634   \nmin                 1.000000       1.000000   1996.000000      0.000000   \n25%                 2.000000      15.000000   2008.000000     25.000000   \n50%                 4.000000      15.000000   2009.000000     29.000000   \n75%                 6.000000      15.000000   2012.000000     80.000000   \nmax                 8.000000      15.000000   2025.000000     99.000000   \n\n       horaat_rishum  \ncount    7775.000000  \nmean   211421.831768  \nstd     39850.910749  \nmin     11095.000000  \n25%    200330.000000  \n50%    220223.000000  \n75%    240215.500000  \nmax    999998.000000  ",
                  "text/html": "\n  <div id=\"df-267c953d-749d-4503-94f2-2c4682114a2f\" class=\"colab-df-container\">\n    <div>\n<style scoped>\n    .dataframe tbody tr th:only-of-type {\n        vertical-align: middle;\n    }\n\n    .dataframe tbody tr th {\n        vertical-align: top;\n    }\n\n    .dataframe thead th {\n        text-align: right;\n    }\n</style>\n<table border=\"1\" class=\"dataframe\">\n  <thead>\n    <tr style=\"text-align: right;\">\n      <th></th>\n      <th>_id</th>\n      <th>mispar_rechev</th>\n      <th>tozeret_cd</th>\n      <th>degem_cd</th>\n      <th>ramat_eivzur_betihuty</th>\n      <th>kvutzat_zihum</th>\n      <th>shnat_yitzur</th>\n      <th>tzeva_cd</th>\n      <th>horaat_rishum</th>\n    </tr>\n  </thead>\n  <tbody>\n    <tr>\n      <th>count</th>\n      <td>32000.000000</td>\n      <td>3.200000e+04</td>\n      <td>32000.000000</td>\n      <td>32000.000000</td>\n      <td>6090.000000</td>\n      <td>22692.000000</td>\n      <td>32000.000000</td>\n      <td>32000.000000</td>\n      <td>7775.000000</td>\n    </tr>\n    <tr>\n      <th>mean</th>\n      <td>16000.500000</td>\n      <td>1.314576e+07</td>\n      <td>596.867031</td>\n      <td>475.701875</td>\n      <td>3.929228</td>\n      <td>13.462322</td>\n      <td>2011.471937</td>\n      <td>43.422625</td>\n      <td>211421.831768</td>\n    </tr>\n    <tr>\n      <th>std</th>\n      <td>9237.748643</td>\n      <td>1.856323e+07</td>\n      <td>259.427908</td>\n      <td>597.210795</td>\n      <td>2.210714</td>\n      <td>3.562736</td>\n      <td>6.755698</td>\n      <td>27.556634</td>\n      <td>39850.910749</td>\n    </tr>\n    <tr>\n      <th>min</th>\n      <td>1.000000</td>\n      <td>1.000263e+06</td>\n      <td>19.000000</td>\n      <td>1.000000</td>\n      <td>1.000000</td>\n      <td>1.000000</td>\n      <td>1996.000000</td>\n      <td>0.000000</td>\n      <td>11095.000000</td>\n    </tr>\n    <tr>\n      <th>25%</th>\n      <td>8000.750000</td>\n      <td>4.183946e+06</td>\n      <td>413.000000</td>\n      <td>75.000000</td>\n      <td>2.000000</td>\n      <td>15.000000</td>\n      <td>2008.000000</td>\n      <td>25.000000</td>\n      <td>200330.000000</td>\n    </tr>\n    <tr>\n      <th>50%</th>\n      <td>16000.500000</td>\n      <td>6.806477e+06</td>\n      <td>588.000000</td>\n      <td>292.000000</td>\n      <td>4.000000</td>\n      <td>15.000000</td>\n      <td>2009.000000</td>\n      <td>29.000000</td>\n      <td>220223.000000</td>\n    </tr>\n    <tr>\n      <th>75%</th>\n      <td>24000.250000</td>\n      <td>9.111006e+06</td>\n      <td>731.000000</td>\n      <td>651.000000</td>\n      <td>6.000000</td>\n      <td>15.000000</td>\n      <td>2012.000000</td>\n      <td>80.000000</td>\n      <td>240215.500000</td>\n    </tr>\n    <tr>\n      <th>max</th>\n      <td>32000.000000</td>\n      <td>9.255030e+07</td>\n      <td>1629.000000</td>\n      <td>8710.000000</td>\n      <td>8.000000</td>\n      <td>15.000000</td>\n      <td>2025.000000</td>\n      <td>99.000000</td>\n      <td>999998.000000</td>\n    </tr>\n  </tbody>\n</table>\n</div>\n    <div class=\"colab-df-buttons\">\n\n  <div class=\"colab-df-container\">\n    <button class=\"colab-df-convert\" onclick=\"convertToInteractive('df-267c953d-749d-4503-94f2-2c4682114a2f')\"\n            title=\"Convert this dataframe to an interactive table.\"\n            style=\"display:none;\">\n\n  <svg xmlns=\"http://www.w3.org/2000/svg\" height=\"24px\" viewBox=\"0 -960 960 960\">\n    <path d=\"M120-120v-720h720v720H120Zm60-500h600v-160H180v160Zm220 220h160v-160H400v160Zm0 220h160v-160H400v160ZM180-400h160v-160H180v160Zm440 0h160v-160H620v160ZM180-180h160v-160H180v160Zm440 0h160v-160H620v160Z\"/>\n  </svg>\n    </button>\n\n  <style>\n    .colab-df-container {\n      display:flex;\n      gap: 12px;\n    }\n\n    .colab-df-convert {\n      background-color: #E8F0FE;\n      border: none;\n      border-radius: 50%;\n      cursor: pointer;\n      display: none;\n      fill: #1967D2;\n      height: 32px;\n      padding: 0 0 0 0;\n      width: 32px;\n    }\n\n    .colab-df-convert:hover {\n      background-color: #E2EBFA;\n      box-shadow: 0px 1px 2px rgba(60, 64, 67, 0.3), 0px 1px 3px 1px rgba(60, 64, 67, 0.15);\n      fill: #174EA6;\n    }\n\n    .colab-df-buttons div {\n      margin-bottom: 4px;\n    }\n\n    [theme=dark] .colab-df-convert {\n      background-color: #3B4455;\n      fill: #D2E3FC;\n    }\n\n    [theme=dark] .colab-df-convert:hover {\n      background-color: #434B5C;\n      box-shadow: 0px 1px 3px 1px rgba(0, 0, 0, 0.15);\n      filter: drop-shadow(0px 1px 2px rgba(0, 0, 0, 0.3));\n      fill: #FFFFFF;\n    }\n  </style>\n\n    <script>\n      const buttonEl =\n        document.querySelector('#df-267c953d-749d-4503-94f2-2c4682114a2f button.colab-df-convert');\n      buttonEl.style.display =\n        google.colab.kernel.accessAllowed ? 'block' : 'none';\n\n      async function convertToInteractive(key) {\n        const element = document.querySelector('#df-267c953d-749d-4503-94f2-2c4682114a2f');\n        const dataTable =\n          await google.colab.kernel.invokeFunction('convertToInteractive',\n                                                    [key], {});\n        if (!dataTable) return;\n\n        const docLinkHtml = 'Like what you see? Visit the ' +\n          '<a target=\"_blank\" href=https://colab.research.google.com/notebooks/data_table.ipynb>data table notebook</a>'\n          + ' to learn more about interactive tables.';\n        element.innerHTML = '';\n        dataTable['output_type'] = 'display_data';\n        await google.colab.output.renderOutput(dataTable, element);\n        const docLink = document.createElement('div');\n        docLink.innerHTML = docLinkHtml;\n        element.appendChild(docLink);\n      }\n    </script>\n  </div>\n\n\n<div id=\"df-631d37de-4714-48e3-9ce6-b87a6262717f\">\n  <button class=\"colab-df-quickchart\" onclick=\"quickchart('df-631d37de-4714-48e3-9ce6-b87a6262717f')\"\n            title=\"Suggest charts\"\n            style=\"display:none;\">\n\n<svg xmlns=\"http://www.w3.org/2000/svg\" height=\"24px\"viewBox=\"0 0 24 24\"\n     width=\"24px\">\n    <g>\n        <path d=\"M19 3H5c-1.1 0-2 .9-2 2v14c0 1.1.9 2 2 2h14c1.1 0 2-.9 2-2V5c0-1.1-.9-2-2-2zM9 17H7v-7h2v7zm4 0h-2V7h2v10zm4 0h-2v-4h2v4z\"/>\n    </g>\n</svg>\n  </button>\n\n<style>\n  .colab-df-quickchart {\n      --bg-color: #E8F0FE;\n      --fill-color: #1967D2;\n      --hover-bg-color: #E2EBFA;\n      --hover-fill-color: #174EA6;\n      --disabled-fill-color: #AAA;\n      --disabled-bg-color: #DDD;\n  }\n\n  [theme=dark] .colab-df-quickchart {\n      --bg-color: #3B4455;\n      --fill-color: #D2E3FC;\n      --hover-bg-color: #434B5C;\n      --hover-fill-color: #FFFFFF;\n      --disabled-bg-color: #3B4455;\n      --disabled-fill-color: #666;\n  }\n\n  .colab-df-quickchart {\n    background-color: var(--bg-color);\n    border: none;\n    border-radius: 50%;\n    cursor: pointer;\n    display: none;\n    fill: var(--fill-color);\n    height: 32px;\n    padding: 0;\n    width: 32px;\n  }\n\n  .colab-df-quickchart:hover {\n    background-color: var(--hover-bg-color);\n    box-shadow: 0 1px 2px rgba(60, 64, 67, 0.3), 0 1px 3px 1px rgba(60, 64, 67, 0.15);\n    fill: var(--button-hover-fill-color);\n  }\n\n  .colab-df-quickchart-complete:disabled,\n  .colab-df-quickchart-complete:disabled:hover {\n    background-color: var(--disabled-bg-color);\n    fill: var(--disabled-fill-color);\n    box-shadow: none;\n  }\n\n  .colab-df-spinner {\n    border: 2px solid var(--fill-color);\n    border-color: transparent;\n    border-bottom-color: var(--fill-color);\n    animation:\n      spin 1s steps(1) infinite;\n  }\n\n  @keyframes spin {\n    0% {\n      border-color: transparent;\n      border-bottom-color: var(--fill-color);\n      border-left-color: var(--fill-color);\n    }\n    20% {\n      border-color: transparent;\n      border-left-color: var(--fill-color);\n      border-top-color: var(--fill-color);\n    }\n    30% {\n      border-color: transparent;\n      border-left-color: var(--fill-color);\n      border-top-color: var(--fill-color);\n      border-right-color: var(--fill-color);\n    }\n    40% {\n      border-color: transparent;\n      border-right-color: var(--fill-color);\n      border-top-color: var(--fill-color);\n    }\n    60% {\n      border-color: transparent;\n      border-right-color: var(--fill-color);\n    }\n    80% {\n      border-color: transparent;\n      border-right-color: var(--fill-color);\n      border-bottom-color: var(--fill-color);\n    }\n    90% {\n      border-color: transparent;\n      border-bottom-color: var(--fill-color);\n    }\n  }\n</style>\n\n  <script>\n    async function quickchart(key) {\n      const quickchartButtonEl =\n        document.querySelector('#' + key + ' button');\n      quickchartButtonEl.disabled = true;  // To prevent multiple clicks.\n      quickchartButtonEl.classList.add('colab-df-spinner');\n      try {\n        const charts = await google.colab.kernel.invokeFunction(\n            'suggestCharts', [key], {});\n      } catch (error) {\n        console.error('Error during call to suggestCharts:', error);\n      }\n      quickchartButtonEl.classList.remove('colab-df-spinner');\n      quickchartButtonEl.classList.add('colab-df-quickchart-complete');\n    }\n    (() => {\n      let quickchartButtonEl =\n        document.querySelector('#df-631d37de-4714-48e3-9ce6-b87a6262717f button');\n      quickchartButtonEl.style.display =\n        google.colab.kernel.accessAllowed ? 'block' : 'none';\n    })();\n  </script>\n</div>\n\n    </div>\n  </div>\n",
                  "application/vnd.google.colaboratory.intrinsic+json": {
                    "type": "dataframe",
                    "summary": "{\n  \"name\": \"display(tabs)\",\n  \"rows\": 8,\n  \"fields\": [\n    {\n      \"column\": \"_id\",\n      \"properties\": {\n        \"dtype\": \"number\",\n        \"std\": 11532.650024401897,\n        \"min\": 1.0,\n        \"max\": 32000.0,\n        \"num_unique_values\": 6,\n        \"samples\": [\n          32000.0,\n          16000.5,\n          24000.25\n        ],\n        \"semantic_type\": \"\",\n        \"description\": \"\"\n      }\n    },\n    {\n      \"column\": \"mispar_rechev\",\n      \"properties\": {\n        \"dtype\": \"number\",\n        \"std\": 30679025.653498575,\n        \"min\": 32000.0,\n        \"max\": 92550301.0,\n        \"num_unique_values\": 8,\n        \"samples\": [\n          13145761.71009375,\n          6806477.0,\n          32000.0\n        ],\n        \"semantic_type\": \"\",\n        \"description\": \"\"\n      }\n    },\n    {\n      \"column\": \"tozeret_cd\",\n      \"properties\": {\n        \"dtype\": \"number\",\n        \"std\": 11109.806448249426,\n        \"min\": 19.0,\n        \"max\": 32000.0,\n        \"num_unique_values\": 8,\n        \"samples\": [\n          596.86703125,\n          588.0,\n          32000.0\n        ],\n        \"semantic_type\": \"\",\n        \"description\": \"\"\n      }\n    },\n    {\n      \"column\": \"degem_cd\",\n      \"properties\": {\n        \"dtype\": \"number\",\n        \"std\": 11160.909320227707,\n        \"min\": 1.0,\n        \"max\": 32000.0,\n        \"num_unique_values\": 8,\n        \"samples\": [\n          475.701875,\n          292.0,\n          32000.0\n        ],\n        \"semantic_type\": \"\",\n        \"description\": \"\"\n      }\n    },\n    {\n      \"column\": \"ramat_eivzur_betihuty\",\n      \"properties\": {\n        \"dtype\": \"number\",\n        \"std\": 2151.7705730182875,\n        \"min\": 1.0,\n        \"max\": 6090.0,\n        \"num_unique_values\": 8,\n        \"samples\": [\n          3.9292282430213463,\n          4.0,\n          6090.0\n        ],\n        \"semantic_type\": \"\",\n        \"description\": \"\"\n      }\n    },\n    {\n      \"column\": \"kvutzat_zihum\",\n      \"properties\": {\n        \"dtype\": \"number\",\n        \"std\": 8018.894685051581,\n        \"min\": 1.0,\n        \"max\": 22692.0,\n        \"num_unique_values\": 5,\n        \"samples\": [\n          13.462321523003702,\n          15.0,\n          3.5627355639836513\n        ],\n        \"semantic_type\": \"\",\n        \"description\": \"\"\n      }\n    },\n    {\n      \"column\": \"shnat_yitzur\",\n      \"properties\": {\n        \"dtype\": \"number\",\n        \"std\": 10727.107912277172,\n        \"min\": 6.7556976863199685,\n        \"max\": 32000.0,\n        \"num_unique_values\": 8,\n        \"samples\": [\n          2011.4719375,\n          2009.0,\n          32000.0\n        ],\n        \"semantic_type\": \"\",\n        \"description\": \"\"\n      }\n    },\n    {\n      \"column\": \"tzeva_cd\",\n      \"properties\": {\n        \"dtype\": \"number\",\n        \"std\": 11298.400186371759,\n        \"min\": 0.0,\n        \"max\": 32000.0,\n        \"num_unique_values\": 8,\n        \"samples\": [\n          43.422625,\n          29.0,\n          32000.0\n        ],\n        \"semantic_type\": \"\",\n        \"description\": \"\"\n      }\n    },\n    {\n      \"column\": \"horaat_rishum\",\n      \"properties\": {\n        \"dtype\": \"number\",\n        \"std\": 322213.16987896117,\n        \"min\": 7775.0,\n        \"max\": 999998.0,\n        \"num_unique_values\": 8,\n        \"samples\": [\n          211421.83176848874,\n          220223.0,\n          7775.0\n        ],\n        \"semantic_type\": \"\",\n        \"description\": \"\"\n      }\n    }\n  ]\n}"
                  }
                },
                "metadata": {}
              }
            ]
          }
        },
        "0f71d19b9bda43bb8790ffd7d7b80f4f": {
          "model_module": "@jupyter-widgets/output",
          "model_name": "OutputModel",
          "model_module_version": "1.0.0",
          "state": {
            "_dom_classes": [],
            "_model_module": "@jupyter-widgets/output",
            "_model_module_version": "1.0.0",
            "_model_name": "OutputModel",
            "_view_count": null,
            "_view_module": "@jupyter-widgets/output",
            "_view_module_version": "1.0.0",
            "_view_name": "OutputView",
            "layout": "IPY_MODEL_30fd0e226d9e4013bedb3bf95f20bc48",
            "msg_id": "",
            "outputs": [
              {
                "output_type": "stream",
                "name": "stdout",
                "text": [
                  "טאב 2 – הצגת כל המידע בטבלה:\n"
                ]
              },
              {
                "output_type": "display_data",
                "data": {
                  "text/plain": "         _id  mispar_rechev  tozeret_cd sug_degem     tozeret_nm  degem_cd  \\\n0          1        2759880         676         P    סקודה צ'כיה       548   \n1          2       66226201         676         P    סקודה צ'כיה       908   \n2          3        2489538         676         P    סקודה צ'כיה       516   \n3          4       50272902         885         P     קיה קוריאה       514   \n4          5       50685801         845         P  יונדאי טורקיה        56   \n...      ...            ...         ...       ...            ...       ...   \n31995  31996        4971475         730         P    פורד גרמניה         6   \n31996  31997        6443770         312         P      הונדה-יפן       871   \n31997  31998        1979764         588         P       מזדה יפן       282   \n31998  31999        6230316         143         P  ב מ וו גרמניה      1061   \n31999  32000        7161558         650         P     סובארו יפן       181   \n\n      degem_nm ramat_gimur  ramat_eivzur_betihuty  kvutzat_zihum  \\\n0       NH33RD    AMBITION                    NaN           14.0   \n1       5E33ND    AMBITION                    NaN           14.0   \n2       5E33FD    AMBITION                    NaN           14.0   \n3       CB81CG       URBAN                    2.0            4.0   \n4        A751C       PRIME                    NaN           14.0   \n...        ...         ...                    ...            ...   \n31995      DYB       TREND                    NaN           15.0   \n31996     ZE28    ELEGANCE                    NaN            7.0   \n31997    CR19F           S                    NaN            NaN   \n31998     NU91                                NaN           15.0   \n31999  GD9EL5R          GX                    NaN            NaN   \n\n       shnat_yitzur degem_manoa mivchan_acharon_dt    tokef_dt baalut  \\\n0              2017         CZC         2024-05-28  2025-02-18   פרטי   \n1              2019         DAD         2024-03-03  2025-02-18   פרטי   \n2              2016         CYV         2024-02-25  2025-02-24   פרטי   \n3              2021        G4LE         2025-04-12  2026-04-17   פרטי   \n4              2018        G4LA         2025-04-11  2026-04-14   פרטי   \n...             ...         ...                ...         ...    ...   \n31995          2012        PNDA         2025-03-14  2026-03-20   פרטי   \n31996          2010        LDA3         2024-08-11  2025-07-04   פרטי   \n31997          2008          LF         2024-12-08  2025-10-08   פרטי   \n31998          2010    N52B30AF         2024-01-11  2025-01-04   פרטי   \n31999          2006       EJ 20         2023-08-26  2024-06-21   פרטי   \n\n                  misgeret  tzeva_cd   tzeva_rechev  zmig_kidmi  zmig_ahori  \\\n0        TMBAT6NH8G4029567        29       כסף מטלי  185/60 R15  185/60 R15   \n1        TMBAR7NE7K0127449        29       כסף מטלי  R16 205/55  R16 205/55   \n2        TMBAB7NE2G0167997        29       כסף מטלי  205/55 R16  205/55 R16   \n3        KNACB81CGM5444575        50           אדום   205/60R16   205/60R16   \n4        NLHA751CBJZ429963        80       שנהב לבן   175/65R14   175/65R14   \n...                    ...       ...            ...         ...         ...   \n31995    WF0MXXGCBMBM09560        80       שנהב לבן   205/55R16   205/55R16   \n31996    JHMZE2870AS216412        11      שחור מטלי   185/55R16   185/55R16   \n31997   JMZCR19F5-80217656        26         פלטינה   205/55R16   205/55R16   \n31998  WBANU9107A  CT29434         6  אפור כהה מטלי   225/50R17   225/50R17   \n31999    JF1GD9LR56G451487        32      כחול בהיר  215/45/R17   215/45R17   \n\n      sug_delek_nm  horaat_rishum moed_aliya_lakvish   kinuy_mishari  \n0            בנזין       160117.0             2017-2           RAPID  \n1            בנזין       180301.0             2019-2         OCTAVIA  \n2            בנזין       160116.0             2016-2         OCTAVIA  \n3            בנזין       200153.0             2021-4            NIRO  \n4            בנזין       170001.0             2018-4             I10  \n...            ...            ...                ...             ...  \n31995        בנזין            NaN             2012-3           FOCUS  \n31996        בנזין            NaN             2010-7  INSIGHT HYBRID  \n31997        בנזין            NaN               None         MAZDA 5  \n31998        בנזין            NaN             2010-1            530I  \n31999        בנזין            NaN               None         IMPREZA  \n\n[32000 rows x 24 columns]",
                  "text/html": "\n  <div id=\"df-da714208-0de3-4087-8354-172289d1206d\" class=\"colab-df-container\">\n    <div>\n<style scoped>\n    .dataframe tbody tr th:only-of-type {\n        vertical-align: middle;\n    }\n\n    .dataframe tbody tr th {\n        vertical-align: top;\n    }\n\n    .dataframe thead th {\n        text-align: right;\n    }\n</style>\n<table border=\"1\" class=\"dataframe\">\n  <thead>\n    <tr style=\"text-align: right;\">\n      <th></th>\n      <th>_id</th>\n      <th>mispar_rechev</th>\n      <th>tozeret_cd</th>\n      <th>sug_degem</th>\n      <th>tozeret_nm</th>\n      <th>degem_cd</th>\n      <th>degem_nm</th>\n      <th>ramat_gimur</th>\n      <th>ramat_eivzur_betihuty</th>\n      <th>kvutzat_zihum</th>\n      <th>shnat_yitzur</th>\n      <th>degem_manoa</th>\n      <th>mivchan_acharon_dt</th>\n      <th>tokef_dt</th>\n      <th>baalut</th>\n      <th>misgeret</th>\n      <th>tzeva_cd</th>\n      <th>tzeva_rechev</th>\n      <th>zmig_kidmi</th>\n      <th>zmig_ahori</th>\n      <th>sug_delek_nm</th>\n      <th>horaat_rishum</th>\n      <th>moed_aliya_lakvish</th>\n      <th>kinuy_mishari</th>\n    </tr>\n  </thead>\n  <tbody>\n    <tr>\n      <th>0</th>\n      <td>1</td>\n      <td>2759880</td>\n      <td>676</td>\n      <td>P</td>\n      <td>סקודה צ'כיה</td>\n      <td>548</td>\n      <td>NH33RD</td>\n      <td>AMBITION</td>\n      <td>NaN</td>\n      <td>14.0</td>\n      <td>2017</td>\n      <td>CZC</td>\n      <td>2024-05-28</td>\n      <td>2025-02-18</td>\n      <td>פרטי</td>\n      <td>TMBAT6NH8G4029567</td>\n      <td>29</td>\n      <td>כסף מטלי</td>\n      <td>185/60 R15</td>\n      <td>185/60 R15</td>\n      <td>בנזין</td>\n      <td>160117.0</td>\n      <td>2017-2</td>\n      <td>RAPID</td>\n    </tr>\n    <tr>\n      <th>1</th>\n      <td>2</td>\n      <td>66226201</td>\n      <td>676</td>\n      <td>P</td>\n      <td>סקודה צ'כיה</td>\n      <td>908</td>\n      <td>5E33ND</td>\n      <td>AMBITION</td>\n      <td>NaN</td>\n      <td>14.0</td>\n      <td>2019</td>\n      <td>DAD</td>\n      <td>2024-03-03</td>\n      <td>2025-02-18</td>\n      <td>פרטי</td>\n      <td>TMBAR7NE7K0127449</td>\n      <td>29</td>\n      <td>כסף מטלי</td>\n      <td>R16 205/55</td>\n      <td>R16 205/55</td>\n      <td>בנזין</td>\n      <td>180301.0</td>\n      <td>2019-2</td>\n      <td>OCTAVIA</td>\n    </tr>\n    <tr>\n      <th>2</th>\n      <td>3</td>\n      <td>2489538</td>\n      <td>676</td>\n      <td>P</td>\n      <td>סקודה צ'כיה</td>\n      <td>516</td>\n      <td>5E33FD</td>\n      <td>AMBITION</td>\n      <td>NaN</td>\n      <td>14.0</td>\n      <td>2016</td>\n      <td>CYV</td>\n      <td>2024-02-25</td>\n      <td>2025-02-24</td>\n      <td>פרטי</td>\n      <td>TMBAB7NE2G0167997</td>\n      <td>29</td>\n      <td>כסף מטלי</td>\n      <td>205/55 R16</td>\n      <td>205/55 R16</td>\n      <td>בנזין</td>\n      <td>160116.0</td>\n      <td>2016-2</td>\n      <td>OCTAVIA</td>\n    </tr>\n    <tr>\n      <th>3</th>\n      <td>4</td>\n      <td>50272902</td>\n      <td>885</td>\n      <td>P</td>\n      <td>קיה קוריאה</td>\n      <td>514</td>\n      <td>CB81CG</td>\n      <td>URBAN</td>\n      <td>2.0</td>\n      <td>4.0</td>\n      <td>2021</td>\n      <td>G4LE</td>\n      <td>2025-04-12</td>\n      <td>2026-04-17</td>\n      <td>פרטי</td>\n      <td>KNACB81CGM5444575</td>\n      <td>50</td>\n      <td>אדום</td>\n      <td>205/60R16</td>\n      <td>205/60R16</td>\n      <td>בנזין</td>\n      <td>200153.0</td>\n      <td>2021-4</td>\n      <td>NIRO</td>\n    </tr>\n    <tr>\n      <th>4</th>\n      <td>5</td>\n      <td>50685801</td>\n      <td>845</td>\n      <td>P</td>\n      <td>יונדאי טורקיה</td>\n      <td>56</td>\n      <td>A751C</td>\n      <td>PRIME</td>\n      <td>NaN</td>\n      <td>14.0</td>\n      <td>2018</td>\n      <td>G4LA</td>\n      <td>2025-04-11</td>\n      <td>2026-04-14</td>\n      <td>פרטי</td>\n      <td>NLHA751CBJZ429963</td>\n      <td>80</td>\n      <td>שנהב לבן</td>\n      <td>175/65R14</td>\n      <td>175/65R14</td>\n      <td>בנזין</td>\n      <td>170001.0</td>\n      <td>2018-4</td>\n      <td>I10</td>\n    </tr>\n    <tr>\n      <th>...</th>\n      <td>...</td>\n      <td>...</td>\n      <td>...</td>\n      <td>...</td>\n      <td>...</td>\n      <td>...</td>\n      <td>...</td>\n      <td>...</td>\n      <td>...</td>\n      <td>...</td>\n      <td>...</td>\n      <td>...</td>\n      <td>...</td>\n      <td>...</td>\n      <td>...</td>\n      <td>...</td>\n      <td>...</td>\n      <td>...</td>\n      <td>...</td>\n      <td>...</td>\n      <td>...</td>\n      <td>...</td>\n      <td>...</td>\n      <td>...</td>\n    </tr>\n    <tr>\n      <th>31995</th>\n      <td>31996</td>\n      <td>4971475</td>\n      <td>730</td>\n      <td>P</td>\n      <td>פורד גרמניה</td>\n      <td>6</td>\n      <td>DYB</td>\n      <td>TREND</td>\n      <td>NaN</td>\n      <td>15.0</td>\n      <td>2012</td>\n      <td>PNDA</td>\n      <td>2025-03-14</td>\n      <td>2026-03-20</td>\n      <td>פרטי</td>\n      <td>WF0MXXGCBMBM09560</td>\n      <td>80</td>\n      <td>שנהב לבן</td>\n      <td>205/55R16</td>\n      <td>205/55R16</td>\n      <td>בנזין</td>\n      <td>NaN</td>\n      <td>2012-3</td>\n      <td>FOCUS</td>\n    </tr>\n    <tr>\n      <th>31996</th>\n      <td>31997</td>\n      <td>6443770</td>\n      <td>312</td>\n      <td>P</td>\n      <td>הונדה-יפן</td>\n      <td>871</td>\n      <td>ZE28</td>\n      <td>ELEGANCE</td>\n      <td>NaN</td>\n      <td>7.0</td>\n      <td>2010</td>\n      <td>LDA3</td>\n      <td>2024-08-11</td>\n      <td>2025-07-04</td>\n      <td>פרטי</td>\n      <td>JHMZE2870AS216412</td>\n      <td>11</td>\n      <td>שחור מטלי</td>\n      <td>185/55R16</td>\n      <td>185/55R16</td>\n      <td>בנזין</td>\n      <td>NaN</td>\n      <td>2010-7</td>\n      <td>INSIGHT HYBRID</td>\n    </tr>\n    <tr>\n      <th>31997</th>\n      <td>31998</td>\n      <td>1979764</td>\n      <td>588</td>\n      <td>P</td>\n      <td>מזדה יפן</td>\n      <td>282</td>\n      <td>CR19F</td>\n      <td>S</td>\n      <td>NaN</td>\n      <td>NaN</td>\n      <td>2008</td>\n      <td>LF</td>\n      <td>2024-12-08</td>\n      <td>2025-10-08</td>\n      <td>פרטי</td>\n      <td>JMZCR19F5-80217656</td>\n      <td>26</td>\n      <td>פלטינה</td>\n      <td>205/55R16</td>\n      <td>205/55R16</td>\n      <td>בנזין</td>\n      <td>NaN</td>\n      <td>None</td>\n      <td>MAZDA 5</td>\n    </tr>\n    <tr>\n      <th>31998</th>\n      <td>31999</td>\n      <td>6230316</td>\n      <td>143</td>\n      <td>P</td>\n      <td>ב מ וו גרמניה</td>\n      <td>1061</td>\n      <td>NU91</td>\n      <td></td>\n      <td>NaN</td>\n      <td>15.0</td>\n      <td>2010</td>\n      <td>N52B30AF</td>\n      <td>2024-01-11</td>\n      <td>2025-01-04</td>\n      <td>פרטי</td>\n      <td>WBANU9107A  CT29434</td>\n      <td>6</td>\n      <td>אפור כהה מטלי</td>\n      <td>225/50R17</td>\n      <td>225/50R17</td>\n      <td>בנזין</td>\n      <td>NaN</td>\n      <td>2010-1</td>\n      <td>530I</td>\n    </tr>\n    <tr>\n      <th>31999</th>\n      <td>32000</td>\n      <td>7161558</td>\n      <td>650</td>\n      <td>P</td>\n      <td>סובארו יפן</td>\n      <td>181</td>\n      <td>GD9EL5R</td>\n      <td>GX</td>\n      <td>NaN</td>\n      <td>NaN</td>\n      <td>2006</td>\n      <td>EJ 20</td>\n      <td>2023-08-26</td>\n      <td>2024-06-21</td>\n      <td>פרטי</td>\n      <td>JF1GD9LR56G451487</td>\n      <td>32</td>\n      <td>כחול בהיר</td>\n      <td>215/45/R17</td>\n      <td>215/45R17</td>\n      <td>בנזין</td>\n      <td>NaN</td>\n      <td>None</td>\n      <td>IMPREZA</td>\n    </tr>\n  </tbody>\n</table>\n<p>32000 rows × 24 columns</p>\n</div>\n    <div class=\"colab-df-buttons\">\n\n  <div class=\"colab-df-container\">\n    <button class=\"colab-df-convert\" onclick=\"convertToInteractive('df-da714208-0de3-4087-8354-172289d1206d')\"\n            title=\"Convert this dataframe to an interactive table.\"\n            style=\"display:none;\">\n\n  <svg xmlns=\"http://www.w3.org/2000/svg\" height=\"24px\" viewBox=\"0 -960 960 960\">\n    <path d=\"M120-120v-720h720v720H120Zm60-500h600v-160H180v160Zm220 220h160v-160H400v160Zm0 220h160v-160H400v160ZM180-400h160v-160H180v160Zm440 0h160v-160H620v160ZM180-180h160v-160H180v160Zm440 0h160v-160H620v160Z\"/>\n  </svg>\n    </button>\n\n  <style>\n    .colab-df-container {\n      display:flex;\n      gap: 12px;\n    }\n\n    .colab-df-convert {\n      background-color: #E8F0FE;\n      border: none;\n      border-radius: 50%;\n      cursor: pointer;\n      display: none;\n      fill: #1967D2;\n      height: 32px;\n      padding: 0 0 0 0;\n      width: 32px;\n    }\n\n    .colab-df-convert:hover {\n      background-color: #E2EBFA;\n      box-shadow: 0px 1px 2px rgba(60, 64, 67, 0.3), 0px 1px 3px 1px rgba(60, 64, 67, 0.15);\n      fill: #174EA6;\n    }\n\n    .colab-df-buttons div {\n      margin-bottom: 4px;\n    }\n\n    [theme=dark] .colab-df-convert {\n      background-color: #3B4455;\n      fill: #D2E3FC;\n    }\n\n    [theme=dark] .colab-df-convert:hover {\n      background-color: #434B5C;\n      box-shadow: 0px 1px 3px 1px rgba(0, 0, 0, 0.15);\n      filter: drop-shadow(0px 1px 2px rgba(0, 0, 0, 0.3));\n      fill: #FFFFFF;\n    }\n  </style>\n\n    <script>\n      const buttonEl =\n        document.querySelector('#df-da714208-0de3-4087-8354-172289d1206d button.colab-df-convert');\n      buttonEl.style.display =\n        google.colab.kernel.accessAllowed ? 'block' : 'none';\n\n      async function convertToInteractive(key) {\n        const element = document.querySelector('#df-da714208-0de3-4087-8354-172289d1206d');\n        const dataTable =\n          await google.colab.kernel.invokeFunction('convertToInteractive',\n                                                    [key], {});\n        if (!dataTable) return;\n\n        const docLinkHtml = 'Like what you see? Visit the ' +\n          '<a target=\"_blank\" href=https://colab.research.google.com/notebooks/data_table.ipynb>data table notebook</a>'\n          + ' to learn more about interactive tables.';\n        element.innerHTML = '';\n        dataTable['output_type'] = 'display_data';\n        await google.colab.output.renderOutput(dataTable, element);\n        const docLink = document.createElement('div');\n        docLink.innerHTML = docLinkHtml;\n        element.appendChild(docLink);\n      }\n    </script>\n  </div>\n\n\n<div id=\"df-67b86c84-7028-4a0c-87d2-4e2ad72222ba\">\n  <button class=\"colab-df-quickchart\" onclick=\"quickchart('df-67b86c84-7028-4a0c-87d2-4e2ad72222ba')\"\n            title=\"Suggest charts\"\n            style=\"display:none;\">\n\n<svg xmlns=\"http://www.w3.org/2000/svg\" height=\"24px\"viewBox=\"0 0 24 24\"\n     width=\"24px\">\n    <g>\n        <path d=\"M19 3H5c-1.1 0-2 .9-2 2v14c0 1.1.9 2 2 2h14c1.1 0 2-.9 2-2V5c0-1.1-.9-2-2-2zM9 17H7v-7h2v7zm4 0h-2V7h2v10zm4 0h-2v-4h2v4z\"/>\n    </g>\n</svg>\n  </button>\n\n<style>\n  .colab-df-quickchart {\n      --bg-color: #E8F0FE;\n      --fill-color: #1967D2;\n      --hover-bg-color: #E2EBFA;\n      --hover-fill-color: #174EA6;\n      --disabled-fill-color: #AAA;\n      --disabled-bg-color: #DDD;\n  }\n\n  [theme=dark] .colab-df-quickchart {\n      --bg-color: #3B4455;\n      --fill-color: #D2E3FC;\n      --hover-bg-color: #434B5C;\n      --hover-fill-color: #FFFFFF;\n      --disabled-bg-color: #3B4455;\n      --disabled-fill-color: #666;\n  }\n\n  .colab-df-quickchart {\n    background-color: var(--bg-color);\n    border: none;\n    border-radius: 50%;\n    cursor: pointer;\n    display: none;\n    fill: var(--fill-color);\n    height: 32px;\n    padding: 0;\n    width: 32px;\n  }\n\n  .colab-df-quickchart:hover {\n    background-color: var(--hover-bg-color);\n    box-shadow: 0 1px 2px rgba(60, 64, 67, 0.3), 0 1px 3px 1px rgba(60, 64, 67, 0.15);\n    fill: var(--button-hover-fill-color);\n  }\n\n  .colab-df-quickchart-complete:disabled,\n  .colab-df-quickchart-complete:disabled:hover {\n    background-color: var(--disabled-bg-color);\n    fill: var(--disabled-fill-color);\n    box-shadow: none;\n  }\n\n  .colab-df-spinner {\n    border: 2px solid var(--fill-color);\n    border-color: transparent;\n    border-bottom-color: var(--fill-color);\n    animation:\n      spin 1s steps(1) infinite;\n  }\n\n  @keyframes spin {\n    0% {\n      border-color: transparent;\n      border-bottom-color: var(--fill-color);\n      border-left-color: var(--fill-color);\n    }\n    20% {\n      border-color: transparent;\n      border-left-color: var(--fill-color);\n      border-top-color: var(--fill-color);\n    }\n    30% {\n      border-color: transparent;\n      border-left-color: var(--fill-color);\n      border-top-color: var(--fill-color);\n      border-right-color: var(--fill-color);\n    }\n    40% {\n      border-color: transparent;\n      border-right-color: var(--fill-color);\n      border-top-color: var(--fill-color);\n    }\n    60% {\n      border-color: transparent;\n      border-right-color: var(--fill-color);\n    }\n    80% {\n      border-color: transparent;\n      border-right-color: var(--fill-color);\n      border-bottom-color: var(--fill-color);\n    }\n    90% {\n      border-color: transparent;\n      border-bottom-color: var(--fill-color);\n    }\n  }\n</style>\n\n  <script>\n    async function quickchart(key) {\n      const quickchartButtonEl =\n        document.querySelector('#' + key + ' button');\n      quickchartButtonEl.disabled = true;  // To prevent multiple clicks.\n      quickchartButtonEl.classList.add('colab-df-spinner');\n      try {\n        const charts = await google.colab.kernel.invokeFunction(\n            'suggestCharts', [key], {});\n      } catch (error) {\n        console.error('Error during call to suggestCharts:', error);\n      }\n      quickchartButtonEl.classList.remove('colab-df-spinner');\n      quickchartButtonEl.classList.add('colab-df-quickchart-complete');\n    }\n    (() => {\n      let quickchartButtonEl =\n        document.querySelector('#df-67b86c84-7028-4a0c-87d2-4e2ad72222ba button');\n      quickchartButtonEl.style.display =\n        google.colab.kernel.accessAllowed ? 'block' : 'none';\n    })();\n  </script>\n</div>\n\n  <div id=\"id_67ff6fc9-3bc7-4122-b949-13b9f0d6791f\">\n    <style>\n      .colab-df-generate {\n        background-color: #E8F0FE;\n        border: none;\n        border-radius: 50%;\n        cursor: pointer;\n        display: none;\n        fill: #1967D2;\n        height: 32px;\n        padding: 0 0 0 0;\n        width: 32px;\n      }\n\n      .colab-df-generate:hover {\n        background-color: #E2EBFA;\n        box-shadow: 0px 1px 2px rgba(60, 64, 67, 0.3), 0px 1px 3px 1px rgba(60, 64, 67, 0.15);\n        fill: #174EA6;\n      }\n\n      [theme=dark] .colab-df-generate {\n        background-color: #3B4455;\n        fill: #D2E3FC;\n      }\n\n      [theme=dark] .colab-df-generate:hover {\n        background-color: #434B5C;\n        box-shadow: 0px 1px 3px 1px rgba(0, 0, 0, 0.15);\n        filter: drop-shadow(0px 1px 2px rgba(0, 0, 0, 0.3));\n        fill: #FFFFFF;\n      }\n    </style>\n    <button class=\"colab-df-generate\" onclick=\"generateWithVariable('df')\"\n            title=\"Generate code using this dataframe.\"\n            style=\"display:none;\">\n\n  <svg xmlns=\"http://www.w3.org/2000/svg\" height=\"24px\"viewBox=\"0 0 24 24\"\n       width=\"24px\">\n    <path d=\"M7,19H8.4L18.45,9,17,7.55,7,17.6ZM5,21V16.75L18.45,3.32a2,2,0,0,1,2.83,0l1.4,1.43a1.91,1.91,0,0,1,.58,1.4,1.91,1.91,0,0,1-.58,1.4L9.25,21ZM18.45,9,17,7.55Zm-12,3A5.31,5.31,0,0,0,4.9,8.1,5.31,5.31,0,0,0,1,6.5,5.31,5.31,0,0,0,4.9,4.9,5.31,5.31,0,0,0,6.5,1,5.31,5.31,0,0,0,8.1,4.9,5.31,5.31,0,0,0,12,6.5,5.46,5.46,0,0,0,6.5,12Z\"/>\n  </svg>\n    </button>\n    <script>\n      (() => {\n      const buttonEl =\n        document.querySelector('#id_67ff6fc9-3bc7-4122-b949-13b9f0d6791f button.colab-df-generate');\n      buttonEl.style.display =\n        google.colab.kernel.accessAllowed ? 'block' : 'none';\n\n      buttonEl.onclick = () => {\n        google.colab.notebook.generateWithVariable('df');\n      }\n      })();\n    </script>\n  </div>\n\n    </div>\n  </div>\n",
                  "application/vnd.google.colaboratory.intrinsic+json": {
                    "type": "dataframe",
                    "variable_name": "df"
                  }
                },
                "metadata": {}
              }
            ]
          }
        },
        "63678563347b489d8185f81a712e7ebb": {
          "model_module": "@jupyter-widgets/output",
          "model_name": "OutputModel",
          "model_module_version": "1.0.0",
          "state": {
            "_dom_classes": [],
            "_model_module": "@jupyter-widgets/output",
            "_model_module_version": "1.0.0",
            "_model_name": "OutputModel",
            "_view_count": null,
            "_view_module": "@jupyter-widgets/output",
            "_view_module_version": "1.0.0",
            "_view_name": "OutputView",
            "layout": "IPY_MODEL_504c6f2619634efeba2db25b72b41e7c",
            "msg_id": "",
            "outputs": [
              {
                "output_type": "stream",
                "name": "stdout",
                "text": [
                  "טאב 3 – גרף מספר כלי הרכב שיוצרו בכל שנה:\n"
                ]
              },
              {
                "output_type": "display_data",
                "data": {
                  "text/plain": "<Figure size 1200x500 with 1 Axes>",
                  "image/png": "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\n"
                },
                "metadata": {}
              }
            ]
          }
        },
        "21dc8c27e57f485ea55e3d1a38955a15": {
          "model_module": "@jupyter-widgets/base",
          "model_name": "LayoutModel",
          "model_module_version": "1.2.0",
          "state": {
            "_model_module": "@jupyter-widgets/base",
            "_model_module_version": "1.2.0",
            "_model_name": "LayoutModel",
            "_view_count": null,
            "_view_module": "@jupyter-widgets/base",
            "_view_module_version": "1.2.0",
            "_view_name": "LayoutView",
            "align_content": null,
            "align_items": null,
            "align_self": null,
            "border": null,
            "bottom": null,
            "display": null,
            "flex": null,
            "flex_flow": null,
            "grid_area": null,
            "grid_auto_columns": null,
            "grid_auto_flow": null,
            "grid_auto_rows": null,
            "grid_column": null,
            "grid_gap": null,
            "grid_row": null,
            "grid_template_areas": null,
            "grid_template_columns": null,
            "grid_template_rows": null,
            "height": null,
            "justify_content": null,
            "justify_items": null,
            "left": null,
            "margin": null,
            "max_height": null,
            "max_width": null,
            "min_height": null,
            "min_width": null,
            "object_fit": null,
            "object_position": null,
            "order": null,
            "overflow": null,
            "overflow_x": null,
            "overflow_y": null,
            "padding": null,
            "right": null,
            "top": null,
            "visibility": null,
            "width": null
          }
        },
        "8c2ab8592b3347f0845725a8800165df": {
          "model_module": "@jupyter-widgets/base",
          "model_name": "LayoutModel",
          "model_module_version": "1.2.0",
          "state": {
            "_model_module": "@jupyter-widgets/base",
            "_model_module_version": "1.2.0",
            "_model_name": "LayoutModel",
            "_view_count": null,
            "_view_module": "@jupyter-widgets/base",
            "_view_module_version": "1.2.0",
            "_view_name": "LayoutView",
            "align_content": null,
            "align_items": null,
            "align_self": null,
            "border": null,
            "bottom": null,
            "display": null,
            "flex": null,
            "flex_flow": null,
            "grid_area": null,
            "grid_auto_columns": null,
            "grid_auto_flow": null,
            "grid_auto_rows": null,
            "grid_column": null,
            "grid_gap": null,
            "grid_row": null,
            "grid_template_areas": null,
            "grid_template_columns": null,
            "grid_template_rows": null,
            "height": null,
            "justify_content": null,
            "justify_items": null,
            "left": null,
            "margin": null,
            "max_height": null,
            "max_width": null,
            "min_height": null,
            "min_width": null,
            "object_fit": null,
            "object_position": null,
            "order": null,
            "overflow": null,
            "overflow_x": null,
            "overflow_y": null,
            "padding": null,
            "right": null,
            "top": null,
            "visibility": null,
            "width": null
          }
        },
        "30fd0e226d9e4013bedb3bf95f20bc48": {
          "model_module": "@jupyter-widgets/base",
          "model_name": "LayoutModel",
          "model_module_version": "1.2.0",
          "state": {
            "_model_module": "@jupyter-widgets/base",
            "_model_module_version": "1.2.0",
            "_model_name": "LayoutModel",
            "_view_count": null,
            "_view_module": "@jupyter-widgets/base",
            "_view_module_version": "1.2.0",
            "_view_name": "LayoutView",
            "align_content": null,
            "align_items": null,
            "align_self": null,
            "border": null,
            "bottom": null,
            "display": null,
            "flex": null,
            "flex_flow": null,
            "grid_area": null,
            "grid_auto_columns": null,
            "grid_auto_flow": null,
            "grid_auto_rows": null,
            "grid_column": null,
            "grid_gap": null,
            "grid_row": null,
            "grid_template_areas": null,
            "grid_template_columns": null,
            "grid_template_rows": null,
            "height": null,
            "justify_content": null,
            "justify_items": null,
            "left": null,
            "margin": null,
            "max_height": null,
            "max_width": null,
            "min_height": null,
            "min_width": null,
            "object_fit": null,
            "object_position": null,
            "order": null,
            "overflow": null,
            "overflow_x": null,
            "overflow_y": null,
            "padding": null,
            "right": null,
            "top": null,
            "visibility": null,
            "width": null
          }
        },
        "504c6f2619634efeba2db25b72b41e7c": {
          "model_module": "@jupyter-widgets/base",
          "model_name": "LayoutModel",
          "model_module_version": "1.2.0",
          "state": {
            "_model_module": "@jupyter-widgets/base",
            "_model_module_version": "1.2.0",
            "_model_name": "LayoutModel",
            "_view_count": null,
            "_view_module": "@jupyter-widgets/base",
            "_view_module_version": "1.2.0",
            "_view_name": "LayoutView",
            "align_content": null,
            "align_items": null,
            "align_self": null,
            "border": null,
            "bottom": null,
            "display": null,
            "flex": null,
            "flex_flow": null,
            "grid_area": null,
            "grid_auto_columns": null,
            "grid_auto_flow": null,
            "grid_auto_rows": null,
            "grid_column": null,
            "grid_gap": null,
            "grid_row": null,
            "grid_template_areas": null,
            "grid_template_columns": null,
            "grid_template_rows": null,
            "height": null,
            "justify_content": null,
            "justify_items": null,
            "left": null,
            "margin": null,
            "max_height": null,
            "max_width": null,
            "min_height": null,
            "min_width": null,
            "object_fit": null,
            "object_position": null,
            "order": null,
            "overflow": null,
            "overflow_x": null,
            "overflow_y": null,
            "padding": null,
            "right": null,
            "top": null,
            "visibility": null,
            "width": null
          }
        }
      }
    }
  },
  "cells": [
    {
      "cell_type": "code",
      "execution_count": 1,
      "metadata": {
        "colab": {
          "base_uri": "https://localhost:8080/",
          "height": 587,
          "referenced_widgets": [
            "013a592d9ce24e24af6447130287e79d",
            "0d6025c1ac744b98b1d4ebcebb2cc68d",
            "0f71d19b9bda43bb8790ffd7d7b80f4f",
            "63678563347b489d8185f81a712e7ebb",
            "21dc8c27e57f485ea55e3d1a38955a15",
            "8c2ab8592b3347f0845725a8800165df",
            "30fd0e226d9e4013bedb3bf95f20bc48",
            "504c6f2619634efeba2db25b72b41e7c"
          ]
        },
        "id": "Y7aWGcZNWovd",
        "outputId": "a1300e64-4e22-4d23-9e4b-e74219ef343c"
      },
      "outputs": [
        {
          "output_type": "display_data",
          "data": {
            "text/plain": [
              "Tab(children=(Output(), Output(), Output()), _titles={'0': 'טאב\\xa01: סטטיסטיקה', '1': 'טאב\\xa02: טבלה', '2': …"
            ],
            "application/vnd.jupyter.widget-view+json": {
              "version_major": 2,
              "version_minor": 0,
              "model_id": "013a592d9ce24e24af6447130287e79d"
            }
          },
          "metadata": {}
        }
      ],
      "source": [
        "# Colab cell: 3‐Tab interface over Israel Vehicles API\n",
        "\n",
        "import requests\n",
        "import pandas as pd\n",
        "import ipywidgets as widgets\n",
        "import matplotlib.pyplot as plt\n",
        "from IPython.display import display\n",
        "\n",
        "# 1) Fetch the data\n",
        "url = \"https://data.gov.il/api/3/action/datastore_search?resource_id=053cea08-09bc-40ec-8f7a-156f0677aff3\"\n",
        "\n",
        "resp = requests.get(url)\n",
        "records = resp.json()[\"result\"][\"records\"]\n",
        "df = pd.DataFrame(records)\n",
        "pd.set_option(\"display.max_columns\", None)\n",
        "\n",
        "# ensure year is numeric\n",
        "df[\"shnat_yitzur\"] = df[\"shnat_yitzur\"].astype(int)\n",
        "\n",
        "# 2) Build each tab\n",
        "\n",
        "# Tab 1 – סטטיסטיקה של כלל הנתונים\n",
        "tab1 = widgets.Output()\n",
        "with tab1:\n",
        "    print(\"טאב 1 – סטטיסטיקה של כלל הנתונים:\")\n",
        "    display(df.describe())\n",
        "\n",
        "# Tab 2 – הצגת כל המידע בטבלה\n",
        "tab2 = widgets.Output()\n",
        "with tab2:\n",
        "    print(\"טאב 2 – הצגת כל המידע בטבלה:\")\n",
        "    display(df)\n",
        "\n",
        "# Tab 3 – גרף של מספר כלי הרכב שיוצרו בכל שנה\n",
        "tab3 = widgets.Output()\n",
        "with tab3:\n",
        "    print(\"טאב 3 – גרף מספר כלי הרכב שיוצרו בכל שנה:\")\n",
        "    yearly_counts = df.groupby(\"shnat_yitzur\").size().sort_index()\n",
        "    plt.figure(figsize=(12, 5))\n",
        "    plt.bar(\n",
        "        yearly_counts.index,\n",
        "        yearly_counts.values,\n",
        "        edgecolor=\"black\",\n",
        "        alpha=0.7\n",
        "    )\n",
        "    plt.xlabel(\"שנת ייצור\")\n",
        "    plt.ylabel(\"מספר כלי הרכב\")\n",
        "    plt.title(\"מספר כלי הרכב שיוצרו בכל שנה\")\n",
        "    plt.xticks(rotation=45)\n",
        "    plt.grid(axis=\"y\", linestyle=\"--\", alpha=0.5)\n",
        "    plt.tight_layout()\n",
        "    plt.show()\n",
        "\n",
        "# 3) Assemble and display the tabs\n",
        "tabs = widgets.Tab(children=[tab1, tab2, tab3])\n",
        "tabs.set_title(0, \"טאב 1: סטטיסטיקה\")\n",
        "tabs.set_title(1, \"טאב 2: טבלה\")\n",
        "tabs.set_title(2, \"טאב 3: גרף לפי שנה\")\n",
        "display(tabs)\n"
      ]
    }
  ]
}