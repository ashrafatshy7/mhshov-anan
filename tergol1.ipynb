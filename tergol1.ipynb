{
  "nbformat": 4,
  "nbformat_minor": 0,
  "metadata": {
    "colab": {
      "provenance": [],
      "authorship_tag": "ABX9TyMAYNiWw7MX5XbJy6fN3j8v",
      "include_colab_link": true
    },
    "kernelspec": {
      "name": "python3",
      "display_name": "Python 3"
    },
    "language_info": {
      "name": "python"
    }
  },
  "cells": [
    {
      "cell_type": "markdown",
      "metadata": {
        "id": "view-in-github",
        "colab_type": "text"
      },
      "source": [
        "<a href=\"https://colab.research.google.com/github/ashrafatshy7/mhshov-anan/blob/main/tergol1.ipynb\" target=\"_parent\"><img src=\"https://colab.research.google.com/assets/colab-badge.svg\" alt=\"Open In Colab\"/></a>"
      ]
    },
    {
      "cell_type": "code",
      "source": [
        "import ipywidgets as widgets\n",
        "from IPython.display import display\n",
        "\n",
        "with open('students.txt', 'r') as file:\n",
        "    lines = file.readlines()\n",
        "\n",
        "students_dict = {}\n",
        "for line in lines:\n",
        "    parts = line.strip().split()\n",
        "    if len(parts) < 5:\n",
        "        continue\n",
        "    first_name = parts[0]\n",
        "    last_name = parts[1]\n",
        "    email = parts[2]\n",
        "    course = \" \".join(parts[3:-1])\n",
        "    link = parts[-1]\n",
        "    full_name = f\"{first_name} {last_name}\"\n",
        "    details = {\n",
        "        \"first_name\": first_name,\n",
        "        \"last_name\": last_name,\n",
        "        \"email\": email,\n",
        "        \"course\": course,\n",
        "        \"link\": link\n",
        "    }\n",
        "    students_dict[full_name] = details\n",
        "\n",
        "students_keys = list(students_dict.keys())[:2]\n",
        "\n",
        "dropdown = widgets.Dropdown(\n",
        "    options=students_keys,\n",
        "    description='Student:'\n",
        ")\n",
        "\n",
        "email_text = widgets.Text(\n",
        "    value='',\n",
        "    description='Email:',\n",
        "    disabled=True\n",
        ")\n",
        "course_text = widgets.Text(\n",
        "    value='',\n",
        "    description='Course:',\n",
        "    disabled=True\n",
        ")\n",
        "link_text = widgets.Text(\n",
        "    value='',\n",
        "    description='Link:',\n",
        "    disabled=True\n",
        ")\n",
        "\n",
        "favorite_plan_text = widgets.Text(\n",
        "    value='',\n",
        "    description='Favorite Plan:'\n",
        ")\n",
        "\n",
        "update_button = widgets.Button(\n",
        "    description='Update'\n",
        ")\n",
        "\n",
        "output = widgets.Output()\n",
        "\n",
        "def on_student_change(change):\n",
        "    if change['type'] == 'change' and change['name'] == 'value':\n",
        "        student = change['new']\n",
        "        details = students_dict.get(student, {})\n",
        "        email_text.value = details.get('email', '')\n",
        "        course_text.value = details.get('course', '')\n",
        "        link_text.value = details.get('link', '')\n",
        "        favorite_plan_text.value = ''\n",
        "\n",
        "dropdown.observe(on_student_change)\n",
        "\n",
        "def on_update_clicked(b):\n",
        "    with output:\n",
        "        student = dropdown.value\n",
        "        details = students_dict.get(student, {})\n",
        "        fav_plan = favorite_plan_text.value.strip()\n",
        "        if fav_plan:\n",
        "            new_line = f\"{details.get('first_name')} {details.get('last_name')} {details.get('email')} {details.get('course')} {details.get('link')} {fav_plan}\\n\"\n",
        "            with open('students.txt', 'a') as file:\n",
        "                file.write(new_line)\n",
        "            print(\"Updated student's favorite plan appended to file.\")\n",
        "        else:\n",
        "            print(\"Please enter a favorite plan before updating.\")\n",
        "\n",
        "update_button.on_click(on_update_clicked)\n",
        "\n",
        "display(dropdown, email_text, course_text, link_text, favorite_plan_text, update_button, output)\n",
        "\n",
        "if students_keys:\n",
        "    dropdown.value = students_keys[0]\n"
      ],
      "metadata": {
        "colab": {
          "base_uri": "https://localhost:8080/",
          "height": 216
        },
        "id": "tygpxmMe4jVL",
        "outputId": "e2a6d082-28f0-4d58-9f99-60e4d57023ec"
      },
      "execution_count": 1,
      "outputs": [
        {
          "output_type": "error",
          "ename": "FileNotFoundError",
          "evalue": "[Errno 2] No such file or directory: 'students.txt'",
          "traceback": [
            "\u001b[0;31m---------------------------------------------------------------------------\u001b[0m",
            "\u001b[0;31mFileNotFoundError\u001b[0m                         Traceback (most recent call last)",
            "\u001b[0;32m<ipython-input-1-843760e05d39>\u001b[0m in \u001b[0;36m<cell line: 0>\u001b[0;34m()\u001b[0m\n\u001b[1;32m      2\u001b[0m \u001b[0;32mfrom\u001b[0m \u001b[0mIPython\u001b[0m\u001b[0;34m.\u001b[0m\u001b[0mdisplay\u001b[0m \u001b[0;32mimport\u001b[0m \u001b[0mdisplay\u001b[0m\u001b[0;34m\u001b[0m\u001b[0;34m\u001b[0m\u001b[0m\n\u001b[1;32m      3\u001b[0m \u001b[0;34m\u001b[0m\u001b[0m\n\u001b[0;32m----> 4\u001b[0;31m \u001b[0;32mwith\u001b[0m \u001b[0mopen\u001b[0m\u001b[0;34m(\u001b[0m\u001b[0;34m'students.txt'\u001b[0m\u001b[0;34m,\u001b[0m \u001b[0;34m'r'\u001b[0m\u001b[0;34m)\u001b[0m \u001b[0;32mas\u001b[0m \u001b[0mfile\u001b[0m\u001b[0;34m:\u001b[0m\u001b[0;34m\u001b[0m\u001b[0;34m\u001b[0m\u001b[0m\n\u001b[0m\u001b[1;32m      5\u001b[0m     \u001b[0mlines\u001b[0m \u001b[0;34m=\u001b[0m \u001b[0mfile\u001b[0m\u001b[0;34m.\u001b[0m\u001b[0mreadlines\u001b[0m\u001b[0;34m(\u001b[0m\u001b[0;34m)\u001b[0m\u001b[0;34m\u001b[0m\u001b[0;34m\u001b[0m\u001b[0m\n\u001b[1;32m      6\u001b[0m \u001b[0;34m\u001b[0m\u001b[0m\n",
            "\u001b[0;31mFileNotFoundError\u001b[0m: [Errno 2] No such file or directory: 'students.txt'"
          ]
        }
      ]
    }
  ]
}