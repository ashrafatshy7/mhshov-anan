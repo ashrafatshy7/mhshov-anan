import numpy as np
from IPython.display import display
import ipywidgets as widgets

dictionary = {}

with open('students.txt', 'r') as file:
  for line in file:
    splitLine = line.split()
    fullName = splitLine[0]+" "+splitLine[1]
    details = {
        "email": splitLine[2],
        "courses": splitLine[3:-1],
        "link": splitLine[-1]
    }
    dictionary[fullName] = details

names = list(dictionary.keys())



def on_dropdown_change(change):
    email.value = dictionary[change.new]["email"]
    courses.value = ", ".join(dictionary[change.new]["courses"])
    link.value = dictionary[change.new]["link"]


def on_update(b):
  current_student = dropdown.value
  student_email = dictionary[current_student]["email"]
  student_courses = " ".join(dictionary[current_student]["courses"])
  student_link = dictionary[current_student]["link"]
  
  with open('students.txt', 'a') as file:
      line = f"\n{current_student} {student_email} {student_courses} {student_link} {favorate.value}"
      file.write(line)

dropdown = widgets.Dropdown(
    options=names,
    description='Student:',
    disabled=False,
)

dropdown.observe(on_dropdown_change, names='value')


email = widgets.Text(
    value=dictionary[dropdown.value]["email"],
    description='Email:',
    disabled=True,
)

courses = widgets.Text(
    value=", ".join(dictionary[dropdown.value]["courses"]),
    description='Courses:',
    disabled=True,
)

link = widgets.Text(
    value=dictionary[dropdown.value]["link"],
    description='Link:',
    disabled=True,
)

favorate = widgets.Text(
    value='',
    description='favorate:',
    disabled=False,
)

update = widgets.Button(
    description='Update:',
)
update.on_click(on_update)

display(dropdown, email, courses, link, favorate, update)


